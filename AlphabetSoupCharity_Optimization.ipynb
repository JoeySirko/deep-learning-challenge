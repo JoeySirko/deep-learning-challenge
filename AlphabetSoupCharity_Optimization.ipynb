{
 "cells": [
  {
   "cell_type": "code",
   "execution_count": 28,
   "id": "02ab6815",
   "metadata": {},
   "outputs": [],
   "source": [
    "# Import our dependencies\n",
    "from sklearn.model_selection import train_test_split\n",
    "from sklearn.preprocessing import StandardScaler\n",
    "import pandas as pd\n",
    "import tensorflow as tf\n",
    "\n",
    "# Import and read the charity_data.csv\n",
    "import pandas as pd \n",
    "application_df = pd.read_csv(\"https://static.bc-edx.com/data/dl-1-2/m21/lms/starter/charity_data.csv\")\n",
    "application_df.head()"
   ]
  },
  {
   "cell_type": "code",
   "execution_count": 2,
   "id": "f95f3e82",
   "metadata": {},
   "outputs": [
    {
     "name": "stderr",
     "output_type": "stream",
     "text": [
      "C:\\Users\\Joey\\AppData\\Local\\Temp\\ipykernel_397544\\3790573489.py:2: FutureWarning: In a future version of pandas all arguments of DataFrame.drop except for the argument 'labels' will be keyword-only.\n",
      "  application_df = application_df.drop([\"EIN\", \"NAME\"], 1)\n"
     ]
    }
   ],
   "source": [
    "# Drop the non-beneficial ID columns, 'EIN' and 'NAME'\n"
   ]
  },
  {
   "cell_type": "code",
   "execution_count": 3,
   "id": "62adad7c",
   "metadata": {},
   "outputs": [
    {
     "data": {
      "text/plain": [
       "APPLICATION_TYPE            17\n",
       "AFFILIATION                  6\n",
       "CLASSIFICATION              71\n",
       "USE_CASE                     5\n",
       "ORGANIZATION                 4\n",
       "STATUS                       2\n",
       "INCOME_AMT                   9\n",
       "SPECIAL_CONSIDERATIONS       2\n",
       "ASK_AMT                   8747\n",
       "IS_SUCCESSFUL                2\n",
       "dtype: int64"
      ]
     },
     "execution_count": 3,
     "metadata": {},
     "output_type": "execute_result"
    }
   ],
   "source": [
    "# Determine the number of unique values in each column\n"
   ]
  },
  {
   "cell_type": "code",
   "execution_count": 4,
   "id": "4cfad8b9",
   "metadata": {},
   "outputs": [],
   "source": [
    "# Look at APPLICATION_TYPE value counts for binning\n"
   ]
  },
  {
   "cell_type": "code",
   "execution_count": 5,
   "id": "c42e024e",
   "metadata": {},
   "outputs": [],
   "source": [
    "# Choose a cutoff value and create a list of application types to be replaced\n"
   ]
  },
  {
   "cell_type": "code",
   "execution_count": 6,
   "id": "12f05aa3",
   "metadata": {},
   "outputs": [],
   "source": [
    "# Replace in dataframe"
   ]
  },
  {
   "cell_type": "code",
   "execution_count": 7,
   "id": "f6df3226",
   "metadata": {},
   "outputs": [
    {
     "data": {
      "text/plain": [
       "T3       27037\n",
       "T4        1542\n",
       "T6        1216\n",
       "T5        1173\n",
       "T19       1065\n",
       "T8         737\n",
       "T7         725\n",
       "T10        528\n",
       "Other      276\n",
       "Name: APPLICATION_TYPE, dtype: int64"
      ]
     },
     "execution_count": 7,
     "metadata": {},
     "output_type": "execute_result"
    }
   ],
   "source": [
    "# Check to make sure binning was successful\n"
   ]
  },
  {
   "cell_type": "code",
   "execution_count": 8,
   "id": "b51b2173",
   "metadata": {},
   "outputs": [],
   "source": [
    "# Look at CLASSIFICATION value counts for binning\n"
   ]
  },
  {
   "cell_type": "code",
   "execution_count": 9,
   "id": "b42393a0",
   "metadata": {},
   "outputs": [],
   "source": [
    "# Choose a cutoff value and create a list of classifications to be replaced\n"
   ]
  },
  {
   "cell_type": "code",
   "execution_count": 10,
   "id": "ade8b184",
   "metadata": {},
   "outputs": [],
   "source": [
    "# Replace in dataframe\n"
   ]
  },
  {
   "cell_type": "code",
   "execution_count": 11,
   "id": "14db073b",
   "metadata": {},
   "outputs": [
    {
     "data": {
      "text/plain": [
       "C1000    17326\n",
       "C2000     6074\n",
       "C1200     4837\n",
       "C3000     1918\n",
       "C2100     1883\n",
       "Other     1484\n",
       "C7000      777\n",
       "Name: CLASSIFICATION, dtype: int64"
      ]
     },
     "execution_count": 11,
     "metadata": {},
     "output_type": "execute_result"
    }
   ],
   "source": [
    "# Check to make sure binning was successful\n"
   ]
  },
  {
   "cell_type": "code",
   "execution_count": 12,
   "id": "2878d8c3",
   "metadata": {},
   "outputs": [],
   "source": [
    "# Convert categorical data to numeric with `pd.get_dummies`\n"
   ]
  },
  {
   "cell_type": "code",
   "execution_count": 13,
   "id": "63428195",
   "metadata": {},
   "outputs": [
    {
     "name": "stderr",
     "output_type": "stream",
     "text": [
      "C:\\Users\\Joey\\AppData\\Local\\Temp\\ipykernel_397544\\935238068.py:3: FutureWarning: In a future version of pandas all arguments of DataFrame.drop except for the argument 'labels' will be keyword-only.\n",
      "  X = application_df.drop([\"IS_SUCCESSFUL\"], 1).values\n"
     ]
    }
   ],
   "source": [
    "# Split our preprocessed data into our features and target arrays\n"
   ]
  },
  {
   "cell_type": "code",
   "execution_count": 14,
   "id": "9c357b19",
   "metadata": {},
   "outputs": [],
   "source": [
    "# Split the preprocessed data into a training and testing dataset\n"
   ]
  },
  {
   "cell_type": "code",
   "execution_count": 15,
   "id": "da315806",
   "metadata": {},
   "outputs": [],
   "source": [
    "# Create a StandardScaler instances\n"
   ]
  },
  {
   "cell_type": "code",
   "execution_count": 16,
   "id": "421ec19b",
   "metadata": {},
   "outputs": [],
   "source": [
    "# Fit the StandardScaler\n"
   ]
  },
  {
   "cell_type": "code",
   "execution_count": 17,
   "id": "21c428ee",
   "metadata": {},
   "outputs": [],
   "source": [
    "# Scale the data\n"
   ]
  },
  {
   "cell_type": "code",
   "execution_count": 18,
   "id": "8f4e4a18",
   "metadata": {},
   "outputs": [],
   "source": [
    "# Define the model - deep neural net, i.e., the number of input features and hidden nodes for each layer\n"
   ]
  },
  {
   "cell_type": "code",
   "execution_count": 19,
   "id": "a8eff06b",
   "metadata": {},
   "outputs": [],
   "source": [
    "# First hidden layer\n"
   ]
  },
  {
   "cell_type": "code",
   "execution_count": 20,
   "id": "23c0c451",
   "metadata": {},
   "outputs": [],
   "source": [
    "# Add Batch Normalization layer\n",
    "neural_model.add(tf.keras.layers.BatchNormalization())"
   ]
  },
  {
   "cell_type": "code",
   "execution_count": 21,
   "id": "74719444",
   "metadata": {},
   "outputs": [],
   "source": [
    "# Second hidden layer\n",
    "neural_model.add(tf.keras.layers.Dense(units=64, activation='relu'))"
   ]
  },
  {
   "cell_type": "code",
   "execution_count": 22,
   "id": "95feed61",
   "metadata": {},
   "outputs": [],
   "source": [
    "# Add Dropout layer\n",
    "neural_model.add(tf.keras.layers.Dropout(0.2))"
   ]
  },
  {
   "cell_type": "code",
   "execution_count": 23,
   "id": "b1614e8c",
   "metadata": {},
   "outputs": [],
   "source": [
    "# Output layer\n",
    "neural_model.add(tf.keras.layers.Dense(units=1, activation=\"sigmoid\"))"
   ]
  },
  {
   "cell_type": "code",
   "execution_count": 24,
   "id": "c502e493",
   "metadata": {},
   "outputs": [
    {
     "name": "stdout",
     "output_type": "stream",
     "text": [
      "Model: \"sequential\"\n",
      "_________________________________________________________________\n",
      " Layer (type)                Output Shape              Param #   \n",
      "=================================================================\n",
      " dense (Dense)               (None, 128)               5760      \n",
      "                                                                 \n",
      " batch_normalization (Batch  (None, 128)               512       \n",
      " Normalization)                                                  \n",
      "                                                                 \n",
      " dense_1 (Dense)             (None, 64)                8256      \n",
      "                                                                 \n",
      " dropout (Dropout)           (None, 64)                0         \n",
      "                                                                 \n",
      " dense_2 (Dense)             (None, 1)                 65        \n",
      "                                                                 \n",
      "=================================================================\n",
      "Total params: 14593 (57.00 KB)\n",
      "Trainable params: 14337 (56.00 KB)\n",
      "Non-trainable params: 256 (1.00 KB)\n",
      "_________________________________________________________________\n"
     ]
    }
   ],
   "source": [
    "# Check the structure of the model\n",
    "neural_model.summary()"
   ]
  },
  {
   "cell_type": "code",
   "execution_count": 25,
   "id": "54c85841",
   "metadata": {},
   "outputs": [],
   "source": [
    "# Compile the model\n",
    "neural_model.compile(loss=\"binary_crossentropy\", optimizer=\"adam\", metrics=[\"accuracy\"])"
   ]
  },
  {
   "cell_type": "code",
   "execution_count": 26,
   "id": "bcbde2b5",
   "metadata": {},
   "outputs": [
    {
     "name": "stdout",
     "output_type": "stream",
     "text": [
      "Epoch 1/100\n",
      "181/181 [==============================] - 1s 2ms/step - loss: 0.5934 - accuracy: 0.7071 - val_loss: 0.5602 - val_accuracy: 0.7384\n",
      "Epoch 2/100\n",
      "181/181 [==============================] - 0s 949us/step - loss: 0.5659 - accuracy: 0.7239 - val_loss: 0.5452 - val_accuracy: 0.7388\n",
      "Epoch 3/100\n",
      "181/181 [==============================] - 0s 952us/step - loss: 0.5578 - accuracy: 0.7292 - val_loss: 0.5409 - val_accuracy: 0.7427\n",
      "Epoch 4/100\n",
      "181/181 [==============================] - 0s 924us/step - loss: 0.5559 - accuracy: 0.7296 - val_loss: 0.5391 - val_accuracy: 0.7431\n",
      "Epoch 5/100\n",
      "181/181 [==============================] - 0s 990us/step - loss: 0.5529 - accuracy: 0.7314 - val_loss: 0.5380 - val_accuracy: 0.7423\n",
      "Epoch 6/100\n",
      "181/181 [==============================] - 0s 894us/step - loss: 0.5521 - accuracy: 0.7330 - val_loss: 0.5389 - val_accuracy: 0.7400\n",
      "Epoch 7/100\n",
      "181/181 [==============================] - 0s 899us/step - loss: 0.5523 - accuracy: 0.7353 - val_loss: 0.5381 - val_accuracy: 0.7431\n",
      "Epoch 8/100\n",
      "181/181 [==============================] - 0s 900us/step - loss: 0.5490 - accuracy: 0.7332 - val_loss: 0.5390 - val_accuracy: 0.7334\n",
      "Epoch 9/100\n",
      "181/181 [==============================] - 0s 946us/step - loss: 0.5478 - accuracy: 0.7342 - val_loss: 0.5390 - val_accuracy: 0.7439\n",
      "Epoch 10/100\n",
      "181/181 [==============================] - 0s 929us/step - loss: 0.5494 - accuracy: 0.7334 - val_loss: 0.5352 - val_accuracy: 0.7408\n",
      "Epoch 11/100\n",
      "181/181 [==============================] - 0s 908us/step - loss: 0.5473 - accuracy: 0.7348 - val_loss: 0.5362 - val_accuracy: 0.7384\n",
      "Epoch 12/100\n",
      "181/181 [==============================] - 0s 889us/step - loss: 0.5466 - accuracy: 0.7347 - val_loss: 0.5405 - val_accuracy: 0.7400\n",
      "Epoch 13/100\n",
      "181/181 [==============================] - 0s 907us/step - loss: 0.5454 - accuracy: 0.7355 - val_loss: 0.5371 - val_accuracy: 0.7415\n",
      "Epoch 14/100\n",
      "181/181 [==============================] - 0s 890us/step - loss: 0.5466 - accuracy: 0.7348 - val_loss: 0.5367 - val_accuracy: 0.7404\n",
      "Epoch 15/100\n",
      "181/181 [==============================] - 0s 900us/step - loss: 0.5456 - accuracy: 0.7359 - val_loss: 0.5338 - val_accuracy: 0.7427\n",
      "Epoch 16/100\n",
      "181/181 [==============================] - 0s 919us/step - loss: 0.5451 - accuracy: 0.7362 - val_loss: 0.5365 - val_accuracy: 0.7412\n",
      "Epoch 17/100\n",
      "181/181 [==============================] - 0s 915us/step - loss: 0.5443 - accuracy: 0.7365 - val_loss: 0.5363 - val_accuracy: 0.7423\n",
      "Epoch 18/100\n",
      "181/181 [==============================] - 0s 897us/step - loss: 0.5444 - accuracy: 0.7356 - val_loss: 0.5351 - val_accuracy: 0.7404\n",
      "Epoch 19/100\n",
      "181/181 [==============================] - 0s 901us/step - loss: 0.5436 - accuracy: 0.7372 - val_loss: 0.5364 - val_accuracy: 0.7415\n",
      "Epoch 20/100\n",
      "181/181 [==============================] - 0s 899us/step - loss: 0.5433 - accuracy: 0.7381 - val_loss: 0.5369 - val_accuracy: 0.7392\n",
      "Epoch 21/100\n",
      "181/181 [==============================] - 0s 885us/step - loss: 0.5432 - accuracy: 0.7379 - val_loss: 0.5338 - val_accuracy: 0.7412\n",
      "Epoch 22/100\n",
      "181/181 [==============================] - 0s 903us/step - loss: 0.5436 - accuracy: 0.7374 - val_loss: 0.5367 - val_accuracy: 0.7404\n",
      "Epoch 23/100\n",
      "181/181 [==============================] - 0s 922us/step - loss: 0.5438 - accuracy: 0.7363 - val_loss: 0.5353 - val_accuracy: 0.7447\n",
      "Epoch 24/100\n",
      "181/181 [==============================] - 0s 898us/step - loss: 0.5437 - accuracy: 0.7385 - val_loss: 0.5381 - val_accuracy: 0.7357\n",
      "Epoch 25/100\n",
      "181/181 [==============================] - 0s 898us/step - loss: 0.5433 - accuracy: 0.7370 - val_loss: 0.5362 - val_accuracy: 0.7415\n",
      "Epoch 26/100\n",
      "181/181 [==============================] - 0s 904us/step - loss: 0.5439 - accuracy: 0.7382 - val_loss: 0.5368 - val_accuracy: 0.7404\n",
      "Epoch 27/100\n",
      "181/181 [==============================] - 0s 937us/step - loss: 0.5425 - accuracy: 0.7392 - val_loss: 0.5372 - val_accuracy: 0.7396\n",
      "Epoch 28/100\n",
      "181/181 [==============================] - 0s 974us/step - loss: 0.5427 - accuracy: 0.7380 - val_loss: 0.5345 - val_accuracy: 0.7435\n",
      "Epoch 29/100\n",
      "181/181 [==============================] - 0s 936us/step - loss: 0.5413 - accuracy: 0.7385 - val_loss: 0.5376 - val_accuracy: 0.7423\n",
      "Epoch 30/100\n",
      "181/181 [==============================] - 0s 897us/step - loss: 0.5420 - accuracy: 0.7382 - val_loss: 0.5340 - val_accuracy: 0.7400\n",
      "Epoch 31/100\n",
      "181/181 [==============================] - 0s 914us/step - loss: 0.5412 - accuracy: 0.7391 - val_loss: 0.5373 - val_accuracy: 0.7384\n",
      "Epoch 32/100\n",
      "181/181 [==============================] - 0s 911us/step - loss: 0.5411 - accuracy: 0.7380 - val_loss: 0.5369 - val_accuracy: 0.7412\n",
      "Epoch 33/100\n",
      "181/181 [==============================] - 0s 902us/step - loss: 0.5417 - accuracy: 0.7377 - val_loss: 0.5351 - val_accuracy: 0.7404\n",
      "Epoch 34/100\n",
      "181/181 [==============================] - 0s 949us/step - loss: 0.5409 - accuracy: 0.7377 - val_loss: 0.5357 - val_accuracy: 0.7404\n",
      "Epoch 35/100\n",
      "181/181 [==============================] - 0s 994us/step - loss: 0.5405 - accuracy: 0.7385 - val_loss: 0.5351 - val_accuracy: 0.7419\n",
      "Epoch 36/100\n",
      "181/181 [==============================] - 0s 896us/step - loss: 0.5404 - accuracy: 0.7393 - val_loss: 0.5368 - val_accuracy: 0.7400\n",
      "Epoch 37/100\n",
      "181/181 [==============================] - 0s 916us/step - loss: 0.5415 - accuracy: 0.7381 - val_loss: 0.5361 - val_accuracy: 0.7431\n",
      "Epoch 38/100\n",
      "181/181 [==============================] - 0s 982us/step - loss: 0.5400 - accuracy: 0.7377 - val_loss: 0.5378 - val_accuracy: 0.7396\n",
      "Epoch 39/100\n",
      "181/181 [==============================] - 0s 983us/step - loss: 0.5397 - accuracy: 0.7387 - val_loss: 0.5381 - val_accuracy: 0.7412\n",
      "Epoch 40/100\n",
      "181/181 [==============================] - 0s 1ms/step - loss: 0.5391 - accuracy: 0.7396 - val_loss: 0.5368 - val_accuracy: 0.7412\n",
      "Epoch 41/100\n",
      "181/181 [==============================] - 0s 915us/step - loss: 0.5399 - accuracy: 0.7385 - val_loss: 0.5378 - val_accuracy: 0.7427\n",
      "Epoch 42/100\n",
      "181/181 [==============================] - 0s 895us/step - loss: 0.5386 - accuracy: 0.7400 - val_loss: 0.5377 - val_accuracy: 0.7408\n",
      "Epoch 43/100\n",
      "181/181 [==============================] - 0s 898us/step - loss: 0.5392 - accuracy: 0.7398 - val_loss: 0.5349 - val_accuracy: 0.7408\n",
      "Epoch 44/100\n",
      "181/181 [==============================] - 0s 886us/step - loss: 0.5403 - accuracy: 0.7387 - val_loss: 0.5374 - val_accuracy: 0.7408\n",
      "Epoch 45/100\n",
      "181/181 [==============================] - 0s 876us/step - loss: 0.5387 - accuracy: 0.7397 - val_loss: 0.5352 - val_accuracy: 0.7447\n",
      "Epoch 46/100\n",
      "181/181 [==============================] - 0s 944us/step - loss: 0.5397 - accuracy: 0.7390 - val_loss: 0.5355 - val_accuracy: 0.7412\n",
      "Epoch 47/100\n",
      "181/181 [==============================] - 0s 902us/step - loss: 0.5386 - accuracy: 0.7397 - val_loss: 0.5379 - val_accuracy: 0.7392\n",
      "Epoch 48/100\n",
      "181/181 [==============================] - 0s 900us/step - loss: 0.5384 - accuracy: 0.7394 - val_loss: 0.5389 - val_accuracy: 0.7373\n",
      "Epoch 49/100\n",
      "181/181 [==============================] - 0s 929us/step - loss: 0.5377 - accuracy: 0.7404 - val_loss: 0.5358 - val_accuracy: 0.7447\n",
      "Epoch 50/100\n",
      "181/181 [==============================] - 0s 904us/step - loss: 0.5377 - accuracy: 0.7395 - val_loss: 0.5370 - val_accuracy: 0.7447\n",
      "Epoch 51/100\n",
      "181/181 [==============================] - 0s 917us/step - loss: 0.5370 - accuracy: 0.7401 - val_loss: 0.5358 - val_accuracy: 0.7412\n",
      "Epoch 52/100\n",
      "181/181 [==============================] - 0s 917us/step - loss: 0.5389 - accuracy: 0.7391 - val_loss: 0.5366 - val_accuracy: 0.7415\n",
      "Epoch 53/100\n",
      "181/181 [==============================] - 0s 897us/step - loss: 0.5388 - accuracy: 0.7407 - val_loss: 0.5369 - val_accuracy: 0.7412\n",
      "Epoch 54/100\n",
      "181/181 [==============================] - 0s 921us/step - loss: 0.5377 - accuracy: 0.7391 - val_loss: 0.5363 - val_accuracy: 0.7419\n",
      "Epoch 55/100\n",
      "181/181 [==============================] - 0s 895us/step - loss: 0.5376 - accuracy: 0.7416 - val_loss: 0.5362 - val_accuracy: 0.7412\n",
      "Epoch 56/100\n",
      "181/181 [==============================] - 0s 872us/step - loss: 0.5370 - accuracy: 0.7406 - val_loss: 0.5395 - val_accuracy: 0.7415\n",
      "Epoch 57/100\n"
     ]
    },
    {
     "name": "stdout",
     "output_type": "stream",
     "text": [
      "181/181 [==============================] - 0s 922us/step - loss: 0.5376 - accuracy: 0.7416 - val_loss: 0.5398 - val_accuracy: 0.7400\n",
      "Epoch 58/100\n",
      "181/181 [==============================] - 0s 907us/step - loss: 0.5379 - accuracy: 0.7406 - val_loss: 0.5393 - val_accuracy: 0.7408\n",
      "Epoch 59/100\n",
      "181/181 [==============================] - 0s 960us/step - loss: 0.5376 - accuracy: 0.7407 - val_loss: 0.5367 - val_accuracy: 0.7415\n",
      "Epoch 60/100\n",
      "181/181 [==============================] - 0s 932us/step - loss: 0.5369 - accuracy: 0.7414 - val_loss: 0.5396 - val_accuracy: 0.7392\n",
      "Epoch 61/100\n",
      "181/181 [==============================] - 0s 896us/step - loss: 0.5386 - accuracy: 0.7398 - val_loss: 0.5392 - val_accuracy: 0.7392\n",
      "Epoch 62/100\n",
      "181/181 [==============================] - 0s 892us/step - loss: 0.5372 - accuracy: 0.7412 - val_loss: 0.5373 - val_accuracy: 0.7443\n",
      "Epoch 63/100\n",
      "181/181 [==============================] - 0s 916us/step - loss: 0.5373 - accuracy: 0.7415 - val_loss: 0.5361 - val_accuracy: 0.7396\n",
      "Epoch 64/100\n",
      "181/181 [==============================] - 0s 913us/step - loss: 0.5373 - accuracy: 0.7419 - val_loss: 0.5377 - val_accuracy: 0.7412\n",
      "Epoch 65/100\n",
      "181/181 [==============================] - 0s 900us/step - loss: 0.5370 - accuracy: 0.7414 - val_loss: 0.5373 - val_accuracy: 0.7431\n",
      "Epoch 66/100\n",
      "181/181 [==============================] - 0s 926us/step - loss: 0.5369 - accuracy: 0.7409 - val_loss: 0.5383 - val_accuracy: 0.7396\n",
      "Epoch 67/100\n",
      "181/181 [==============================] - 0s 879us/step - loss: 0.5376 - accuracy: 0.7403 - val_loss: 0.5379 - val_accuracy: 0.7400\n",
      "Epoch 68/100\n",
      "181/181 [==============================] - 0s 879us/step - loss: 0.5364 - accuracy: 0.7412 - val_loss: 0.5396 - val_accuracy: 0.7396\n",
      "Epoch 69/100\n",
      "181/181 [==============================] - 0s 879us/step - loss: 0.5361 - accuracy: 0.7421 - val_loss: 0.5371 - val_accuracy: 0.7439\n",
      "Epoch 70/100\n",
      "181/181 [==============================] - 0s 933us/step - loss: 0.5363 - accuracy: 0.7416 - val_loss: 0.5395 - val_accuracy: 0.7412\n",
      "Epoch 71/100\n",
      "181/181 [==============================] - 0s 1ms/step - loss: 0.5365 - accuracy: 0.7418 - val_loss: 0.5385 - val_accuracy: 0.7404\n",
      "Epoch 72/100\n",
      "181/181 [==============================] - 0s 918us/step - loss: 0.5359 - accuracy: 0.7409 - val_loss: 0.5402 - val_accuracy: 0.7384\n",
      "Epoch 73/100\n",
      "181/181 [==============================] - 0s 935us/step - loss: 0.5360 - accuracy: 0.7409 - val_loss: 0.5383 - val_accuracy: 0.7392\n",
      "Epoch 74/100\n",
      "181/181 [==============================] - 0s 905us/step - loss: 0.5366 - accuracy: 0.7420 - val_loss: 0.5382 - val_accuracy: 0.7423\n",
      "Epoch 75/100\n",
      "181/181 [==============================] - 0s 939us/step - loss: 0.5357 - accuracy: 0.7414 - val_loss: 0.5385 - val_accuracy: 0.7384\n",
      "Epoch 76/100\n",
      "181/181 [==============================] - 0s 991us/step - loss: 0.5346 - accuracy: 0.7413 - val_loss: 0.5403 - val_accuracy: 0.7392\n",
      "Epoch 77/100\n",
      "181/181 [==============================] - 0s 1ms/step - loss: 0.5367 - accuracy: 0.7416 - val_loss: 0.5393 - val_accuracy: 0.7380\n",
      "Epoch 78/100\n",
      "181/181 [==============================] - 0s 910us/step - loss: 0.5357 - accuracy: 0.7407 - val_loss: 0.5393 - val_accuracy: 0.7408\n",
      "Epoch 79/100\n",
      "181/181 [==============================] - 0s 910us/step - loss: 0.5355 - accuracy: 0.7414 - val_loss: 0.5391 - val_accuracy: 0.7415\n",
      "Epoch 80/100\n",
      "181/181 [==============================] - 0s 889us/step - loss: 0.5356 - accuracy: 0.7413 - val_loss: 0.5372 - val_accuracy: 0.7435\n",
      "Epoch 81/100\n",
      "181/181 [==============================] - 0s 882us/step - loss: 0.5363 - accuracy: 0.7413 - val_loss: 0.5396 - val_accuracy: 0.7427\n",
      "Epoch 82/100\n",
      "181/181 [==============================] - 0s 940us/step - loss: 0.5349 - accuracy: 0.7416 - val_loss: 0.5373 - val_accuracy: 0.7408\n",
      "Epoch 83/100\n",
      "181/181 [==============================] - 0s 913us/step - loss: 0.5350 - accuracy: 0.7419 - val_loss: 0.5415 - val_accuracy: 0.7404\n",
      "Epoch 84/100\n",
      "181/181 [==============================] - 0s 903us/step - loss: 0.5357 - accuracy: 0.7417 - val_loss: 0.5380 - val_accuracy: 0.7408\n",
      "Epoch 85/100\n",
      "181/181 [==============================] - 0s 899us/step - loss: 0.5356 - accuracy: 0.7425 - val_loss: 0.5387 - val_accuracy: 0.7415\n",
      "Epoch 86/100\n",
      "181/181 [==============================] - 0s 888us/step - loss: 0.5357 - accuracy: 0.7420 - val_loss: 0.5387 - val_accuracy: 0.7412\n",
      "Epoch 87/100\n",
      "181/181 [==============================] - 0s 890us/step - loss: 0.5347 - accuracy: 0.7430 - val_loss: 0.5393 - val_accuracy: 0.7400\n",
      "Epoch 88/100\n",
      "181/181 [==============================] - 0s 977us/step - loss: 0.5347 - accuracy: 0.7411 - val_loss: 0.5390 - val_accuracy: 0.7419\n",
      "Epoch 89/100\n",
      "181/181 [==============================] - 0s 924us/step - loss: 0.5344 - accuracy: 0.7422 - val_loss: 0.5402 - val_accuracy: 0.7415\n",
      "Epoch 90/100\n",
      "181/181 [==============================] - 0s 934us/step - loss: 0.5343 - accuracy: 0.7430 - val_loss: 0.5419 - val_accuracy: 0.7357\n",
      "Epoch 91/100\n",
      "181/181 [==============================] - 0s 902us/step - loss: 0.5349 - accuracy: 0.7422 - val_loss: 0.5397 - val_accuracy: 0.7400\n",
      "Epoch 92/100\n",
      "181/181 [==============================] - 0s 892us/step - loss: 0.5340 - accuracy: 0.7437 - val_loss: 0.5393 - val_accuracy: 0.7369\n",
      "Epoch 93/100\n",
      "181/181 [==============================] - 0s 889us/step - loss: 0.5348 - accuracy: 0.7417 - val_loss: 0.5405 - val_accuracy: 0.7349\n",
      "Epoch 94/100\n",
      "181/181 [==============================] - 0s 921us/step - loss: 0.5348 - accuracy: 0.7409 - val_loss: 0.5383 - val_accuracy: 0.7404\n",
      "Epoch 95/100\n",
      "181/181 [==============================] - 0s 924us/step - loss: 0.5340 - accuracy: 0.7420 - val_loss: 0.5400 - val_accuracy: 0.7400\n",
      "Epoch 96/100\n",
      "181/181 [==============================] - 0s 915us/step - loss: 0.5349 - accuracy: 0.7420 - val_loss: 0.5400 - val_accuracy: 0.7404\n",
      "Epoch 97/100\n",
      "181/181 [==============================] - 0s 915us/step - loss: 0.5333 - accuracy: 0.7430 - val_loss: 0.5395 - val_accuracy: 0.7353\n",
      "Epoch 98/100\n",
      "181/181 [==============================] - 0s 901us/step - loss: 0.5341 - accuracy: 0.7420 - val_loss: 0.5376 - val_accuracy: 0.7419\n",
      "Epoch 99/100\n",
      "181/181 [==============================] - 0s 911us/step - loss: 0.5332 - accuracy: 0.7424 - val_loss: 0.5404 - val_accuracy: 0.7435\n",
      "Epoch 100/100\n",
      "181/181 [==============================] - 0s 945us/step - loss: 0.5339 - accuracy: 0.7418 - val_loss: 0.5404 - val_accuracy: 0.7408\n"
     ]
    }
   ],
   "source": [
    "# Train the model\n",
    "fit_model = neural_model.fit(X_train_scaled, y_train, epochs=100, batch_size=128, validation_split=0.1)"
   ]
  },
  {
   "cell_type": "code",
   "execution_count": 27,
   "id": "cdde0d96",
   "metadata": {},
   "outputs": [
    {
     "name": "stdout",
     "output_type": "stream",
     "text": [
      "268/268 - 0s - loss: 0.5715 - accuracy: 0.7216 - 103ms/epoch - 386us/step\n",
      "Loss: 0.571517825126648, Accuracy: 0.7216326594352722\n"
     ]
    }
   ],
   "source": [
    "# Evaluate the model using the test data\n",
    "model_loss, model_accuracy = neural_model.evaluate(X_test_scaled, y_test, verbose=2)\n",
    "print(f\"Loss: {model_loss}, Accuracy: {model_accuracy}\")"
   ]
  }
 ],
 "metadata": {
  "kernelspec": {
   "display_name": "Python 3 (ipykernel)",
   "language": "python",
   "name": "python3"
  },
  "language_info": {
   "codemirror_mode": {
    "name": "ipython",
    "version": 3
   },
   "file_extension": ".py",
   "mimetype": "text/x-python",
   "name": "python",
   "nbconvert_exporter": "python",
   "pygments_lexer": "ipython3",
   "version": "3.10.9"
  }
 },
 "nbformat": 4,
 "nbformat_minor": 5
}
